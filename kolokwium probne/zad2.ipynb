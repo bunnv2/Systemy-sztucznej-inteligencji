{
 "cells": [
  {
   "cell_type": "code",
   "execution_count": 183,
   "metadata": {},
   "outputs": [],
   "source": [
    "import pandas as pd\n",
    "import numpy as np\n",
    "import random as rd\n",
    "import sklearn as sk\n",
    "\n",
    "wineDF = pd.read_csv('winequality/winequality-red.csv',sep=';')\n",
    "\n",
    "class ProcessingData:\n",
    "    @staticmethod\n",
    "    def ShuffleData(df: pd.DataFrame):\n",
    "        for i in range(len(df)):\n",
    "            rand_i=rd.randint(0,len(df)-1)\n",
    "            df.loc[i],df.loc[rand_i] = df.loc[rand_i],df.loc[i]\n",
    "        return df\n",
    "    @staticmethod\n",
    "    def SplitData(df:pd.DataFrame,x:int,y:int):\n",
    "        if x+y>100:\n",
    "            print(\"Podano zbyt dużą ilość danych do podziału\")\n",
    "            return\n",
    "        train_set,test_set = pd.DataFrame(),pd.DataFrame()\n",
    "        for i in range(len(df)):\n",
    "            if rd.random()<x/100:\n",
    "                train_set = train_set.append(df.loc[i])\n",
    "            else:\n",
    "                test_set = test_set.append(df.loc[i])\n",
    "        return train_set,test_set\n",
    "    @staticmethod\n",
    "    def NormalizeData(df:pd.DataFrame):\n",
    "        for atributte in df.columns[:-1]:\n",
    "            mean = df[atributte].mean()\n",
    "            stddev = df[atributte].std()\n",
    "            df[atributte] = (df[atributte]-mean)/stddev\n",
    "        return df\n"
   ]
  },
  {
   "cell_type": "code",
   "execution_count": null,
   "metadata": {},
   "outputs": [],
   "source": [
    "class KNN:\n",
    "    @staticmethod\n",
    "    def distance(x: pd.Series, y:pd.Series, m:int) -> float:\n",
    "        return sum([abs(x-y)**m for x,y in zip(x,y)])**(1/m)\n",
    "    @staticmethod\n",
    "    def fit(sample:pd.Series,df:pd.DataFrame,k:int,m:int):\n",
    "        df = df.drop(df.columns[-1],axis=1)\n",
    "        distances = [KNN.distance(sample,x,m) for x in df.values]\n",
    "        distances = pd.Series(distances,index=df.index)\n",
    "        distances = distances.sort_values()\n",
    "        return distances.index[1:k+1]\n",
    "\n",
    "    @staticmethod\n",
    "    def classify(sample:pd.Series,df:pd.DataFrame,k:int,m:int):\n",
    "        classes_dict = {x:0 for x in df[df.columns[-1]].unique()}\n",
    "        for i in KNN.fit(sample,df,k,m):\n",
    "            classes_dict[df.loc[i][-1]]+=1\n",
    "        return max(classes_dict,key=classes_dict.get)\n",
    "\n",
    "    @staticmethod\n",
    "    def accuracy(train_df:pd.DataFrame,test_df:pd.DataFrame,k:int,m:int):\n",
    "        correct = 0\n",
    "        for i in range(len(test_df)):\n",
    "            try:\n",
    "                if KNN.classify(test_df.loc[i],train_df,k,m)==test_df.loc[i][-1]:\n",
    "                    correct+=1\n",
    "            except:\n",
    "                print(i)\n",
    "        print(\"Good predicted: \",correct)\n",
    "        print(\"Bad predicted: \",len(test_df)-correct)\n",
    "        print(\"Accuracy: \",round((correct/len(test_df))*100,2)+\"%\")\n",
    "         "
   ]
  },
  {
   "cell_type": "code",
   "execution_count": 321,
   "metadata": {},
   "outputs": [],
   "source": [
    "# TODO: do poprawy i będzie cacy :)\n",
    "\n",
    "\n",
    "# class KNN:\n",
    "#     @staticmethod\n",
    "#     def distance(x: pd.Series, y:pd.Series, m:int) -> float:\n",
    "#         return sum([abs(x-y)**m for x,y in zip(x,y)])**(1/m)\n",
    "#     @staticmethod\n",
    "#     def get_neighbours(df:pd.DataFrame,x:pd.Series,k:int,m:int) -> list:\n",
    "#         distances = []\n",
    "#         for i in range(len(df)):\n",
    "#             distances.append((KNN.distance(x,df.iloc[i],m),df.iloc[i]))\n",
    "#         distances.sort(key=lambda x:x[0])\n",
    "#         return distances[:k]\n",
    "#     @staticmethod\n",
    "#     def get_class(neighbours:list) -> int:\n",
    "#         classes = {}\n",
    "#         for i in range(len(neighbours)):\n",
    "#             if neighbours[i][1][-1] not in classes:\n",
    "#                 classes[neighbours[i][1][-1]] = 1\n",
    "#             else:\n",
    "#                 classes[neighbours[i][1][-1]] += 1\n",
    "#         return max(classes,key=classes.get)\n",
    "#     @staticmethod\n",
    "#     def get_accuracy(df:pd.DataFrame,test_set:pd.DataFrame,m:int) -> float:\n",
    "#         correct = 0\n",
    "#         for i in range(len(test_set)):\n",
    "#             neighbours = KNN.get_neighbours(df,test_set.iloc[i],5,m)\n",
    "#             if KNN.get_class(neighbours) == test_set.iloc[i][-1]:\n",
    "#                 correct += 1\n",
    "#         return correct/len(test_set)\n",
    "   "
   ]
  },
  {
   "cell_type": "code",
   "execution_count": 319,
   "metadata": {},
   "outputs": [],
   "source": [
    "wineDF = ProcessingData.ShuffleData(wineDF)\n",
    "wineDF = ProcessingData.NormalizeData(wineDF)\n",
    "train_set,test_set = ProcessingData.SplitData(wineDF,70,20)"
   ]
  },
  {
   "cell_type": "code",
   "execution_count": 320,
   "metadata": {},
   "outputs": [
    {
     "name": "stdout",
     "output_type": "stream",
     "text": [
      "0.8428571428571429\n"
     ]
    }
   ],
   "source": [
    "print(KNN.get_accuracy(train_set,test_set,2))"
   ]
  },
  {
   "cell_type": "code",
   "execution_count": null,
   "metadata": {},
   "outputs": [],
   "source": []
  }
 ],
 "metadata": {
  "interpreter": {
   "hash": "4108a91765b31e0749b701e6d0ff72b663ddb97904f65e23bc47690301cf2236"
  },
  "kernelspec": {
   "display_name": "Python 3.9.7 ('base')",
   "language": "python",
   "name": "python3"
  },
  "language_info": {
   "codemirror_mode": {
    "name": "ipython",
    "version": 3
   },
   "file_extension": ".py",
   "mimetype": "text/x-python",
   "name": "python",
   "nbconvert_exporter": "python",
   "pygments_lexer": "ipython3",
   "version": "3.9.7"
  },
  "orig_nbformat": 4
 },
 "nbformat": 4,
 "nbformat_minor": 2
}
