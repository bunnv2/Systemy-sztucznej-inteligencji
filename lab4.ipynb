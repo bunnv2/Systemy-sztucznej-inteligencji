{
 "cells": [
  {
   "cell_type": "code",
   "execution_count": 18,
   "metadata": {},
   "outputs": [],
   "source": [
    "import pandas as pd\n",
    "import numpy as np\n",
    "import random\n",
    "\n",
    "class ProcessingData:\n",
    "    \n",
    "    @staticmethod\n",
    "    def shuffle(data: pd.DataFrame) -> pd.DataFrame:\n",
    "        for i in range(len(data)):\n",
    "            j = random.randint(0,len(data)-1)\n",
    "            data.iloc[i],data.iloc[j] = data.iloc[j],data.iloc[i]\n",
    "        return data\n",
    "    @staticmethod\n",
    "    def normalize(data: pd.DataFrame,columns: list) -> pd.DataFrame:\n",
    "        for column in columns:\n",
    "            x = data[column].max()\n",
    "            y = data[column].min()\n",
    "            data[column] = (data[column]-y)/(x-y)\n",
    "        return data      \n",
    "    @staticmethod\n",
    "    def split(data: pd.DataFrame) -> pd.DataFrame:\n",
    "        train_set = pd.DataFrame(columns=data.columns)\n",
    "        test_set = pd.DataFrame(columns=data.columns)\n",
    "        for i in range(len(data)):\n",
    "            if random.random() < 0.7:\n",
    "                train_set = train_set.append(data.iloc[i])\n",
    "            else:\n",
    "                test_set = test_set.append(data.iloc[i])\n",
    "        return train_set,test_set\n"
   ]
  },
  {
   "cell_type": "code",
   "execution_count": 19,
   "metadata": {},
   "outputs": [],
   "source": [
    "irisdf =  pd.read_csv(\"iris.csv\")"
   ]
  },
  {
   "cell_type": "code",
   "execution_count": 21,
   "metadata": {},
   "outputs": [],
   "source": [
    "class NaiveBayes:\n",
    "    @staticmethod\n",
    "    def mean(atr):\n",
    "        return atr.mean()\n",
    "    @staticmethod\n",
    "    def stdev(atr):\n",
    "        return atr.std()\n",
    "    @staticmethod\n",
    "    def prob(x,mean,stdev):\n",
    "        if stdev == 0:\n",
    "            return 0\n",
    "        else:\n",
    "            exponent = np.exp(-(x-mean)**2/(2*stdev**2))\n",
    "            return (1/(np.sqrt(2*np.pi)*stdev))*exponent\n",
    "    @staticmethod\n",
    "    def classify(train_set: pd.DataFrame, sample):\n",
    "        varieties = train_set[\"variety\"].unique()\n",
    "        mean_std = {}\n",
    "        probabilities = {}\n",
    "        for variety in varieties:\n",
    "            mean_std[variety] = {}\n",
    "            for atr in train_set.columns:\n",
    "                if atr != \"variety\":\n",
    "                    mean_std[variety][atr] = [NaiveBayes.mean(train_set[train_set[\"variety\"] == variety][atr]),NaiveBayes.stdev(train_set[train_set[\"variety\"] == variety][atr])]\n",
    "        for variety in varieties:\n",
    "            probabilities[variety] = 1/len(varieties)\n",
    "            for atr in sample.index:\n",
    "                if atr != \"variety\":\n",
    "                    probabilities[variety] *= NaiveBayes.prob(sample[atr],mean_std[variety][atr][0],mean_std[variety][atr][1])\n",
    "        return max(probabilities,key=probabilities.get)\n",
    "    @staticmethod\n",
    "    def accuracy(test_set: pd.DataFrame, train_set: pd.DataFrame):\n",
    "        correct = 0\n",
    "        for i in range(len(test_set)):\n",
    "            if test_set[\"variety\"].iloc[i] == NaiveBayes.classify(train_set,test_set.iloc[i]):\n",
    "                correct += 1\n",
    "            else:\n",
    "                print(\"Sample: \"+test_set.iloc[i][\"variety\"]+\" classified as: \"+NaiveBayes.classify(train_set,test_set.iloc[i]))\n",
    "        print(\"Bad predicted: \"+str(len(test_set)-correct))\n",
    "        return correct/len(test_set)\n",
    "\n",
    "\n",
    "\n",
    "\n",
    "        \n",
    "\n",
    "\n",
    "        "
   ]
  },
  {
   "cell_type": "code",
   "execution_count": 26,
   "metadata": {},
   "outputs": [],
   "source": [
    "irisdf=ProcessingData.shuffle(irisdf)\n",
    "irisdf = ProcessingData.normalize(irisdf,[\"sepal.length\",\"sepal.width\",\"petal.length\",\"petal.width\"])\n",
    "train_set,test_set = ProcessingData.split(irisdf)"
   ]
  },
  {
   "cell_type": "code",
   "execution_count": 29,
   "metadata": {},
   "outputs": [
    {
     "name": "stdout",
     "output_type": "stream",
     "text": [
      "Sample: Virginica classified as: Versicolor\n",
      "Sample: Virginica classified as: Versicolor\n",
      "Bad predicted: 2\n",
      "Accuracy: 0.9574468085106383\n"
     ]
    }
   ],
   "source": [
    "print(\"Accuracy:\",NaiveBayes.accuracy(test_set,train_set))"
   ]
  }
 ],
 "metadata": {
  "interpreter": {
   "hash": "5a7cffd829ff8a6968e2d5e1953aff86dde354d120c5df81602b8bd4171ab4c7"
  },
  "kernelspec": {
   "display_name": "Python 3.9.7 ('base')",
   "language": "python",
   "name": "python3"
  },
  "language_info": {
   "codemirror_mode": {
    "name": "ipython",
    "version": 3
   },
   "file_extension": ".py",
   "mimetype": "text/x-python",
   "name": "python",
   "nbconvert_exporter": "python",
   "pygments_lexer": "ipython3",
   "version": "3.9.7"
  },
  "orig_nbformat": 4
 },
 "nbformat": 4,
 "nbformat_minor": 2
}
