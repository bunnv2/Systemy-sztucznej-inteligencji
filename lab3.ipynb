{
 "cells": [
  {
   "cell_type": "code",
   "execution_count": 2,
   "metadata": {},
   "outputs": [],
   "source": [
    "#soft set\n",
    "#musimy nazwac kazda ceche\n",
    "#proponujemy mu asortyment wg. cech ktorzy sa wybrane przez uzytkownika\n",
    "#cechy podane przez uzytkownika posiadaja swoje wagi\n",
    "#jest to model ktory ma nam pomoc podjac sie wyboru\n",
    "#waga cechy jest wazna dla wyboru\n",
    "\n",
    "#dla asortymentu(pietruszka, rzodkiewka, kukurydza) opisujemy cechy - sami robimy zbior cech, brak cechy to 0\n",
    "\n",
    "# E = {świeże, mrożone, ostre, słodkie,\n",
    "#  zielone, czerwone, lokalne, tropikalne, liściaste, bulwowe} \n",
    "# asortyment_df['jablko'] = 0\n",
    "# asortyment_df['cebula'] = 0\n",
    "# asortyment_df['pomidor'] = 0\n",
    "# asortyment_df['papryka'] = 0\n",
    "\n",
    "asortyment = {'pietruszka': {'świeże': 1., 'mrożone': 0, 'ostre': 0., 'słodkie': 0., 'zielone': 1, 'czerwone': 0, 'lokalne': 1, 'tropikalne': 0, 'liściaste': 0.6, 'bulwowe': 0.},\n",
    "                'rzodkiewka': {'świeże': 0, 'mrożone': 1, 'ostre': 0, 'słodkie': 0, 'zielone': 0, 'czerwone': 1, 'lokalne': 0, 'tropikalne': 0, 'liściaste': 0, 'bulwowe': 0.},\n",
    "                'kukurydza': {'świeże': 0, 'mrożone': 0, 'ostre': 1, 'słodkie': 0, 'zielone': 0, 'czerwone': 0, 'lokalne': 0, 'tropikalne': 1, 'liściaste': 0, 'bulwowe': 0.},\n",
    "                'pomidor': {'świeże': 0, 'mrożone': 0, 'ostre': 0, 'słodkie': 1, 'zielone': 0, 'czerwone': 0.6, 'lokalne': 0.8, 'tropikalne': 0, 'liściaste': 0, 'bulwowe': 0.8},\n",
    "                'papryka': {'świeże': 0, 'mrożone': 0, 'ostre': 0, 'słodkie': 0, 'zielone': 0, 'czerwone': 0, 'lokalne': 0, 'tropikalne': 0, 'liściaste': 1, 'bulwowe': 0.6},\n",
    "                'jablko': {'świeże': 0, 'mrożone': 0, 'ostre': 0, 'słodkie': 0, 'zielone': 0, 'czerwone': 0, 'lokalne': 0, 'tropikalne': 0, 'liściaste': 0, 'bulwowe': 1},\n",
    "                'cebula': {'świeże': 0, 'mrożone': 0, 'ostre': 0, 'słodkie': 0, 'zielone': 0, 'czerwone': 0, 'lokalne': 0, 'tropikalne': 0, 'liściaste': 0, 'bulwowe': 0.8},\n",
    "                'marchewka': {'świeże': 0, 'mrożone': 0, 'ostre': 0, 'słodkie': 0, 'zielone': 0, 'czerwone': 0, 'lokalne': 0, 'tropikalne': 0, 'liściaste': 0, 'bulwowe': 0.8}}\n",
    "\n"
   ]
  },
  {
   "cell_type": "code",
   "execution_count": 3,
   "metadata": {},
   "outputs": [],
   "source": [
    "import pandas as pd\n",
    "import random"
   ]
  },
  {
   "cell_type": "code",
   "execution_count": 4,
   "metadata": {},
   "outputs": [],
   "source": [
    "asortyment_df = pd.DataFrame(asortyment)"
   ]
  },
  {
   "cell_type": "code",
   "execution_count": 5,
   "metadata": {},
   "outputs": [
    {
     "name": "stderr",
     "output_type": "stream",
     "text": [
      "C:\\Users\\bunnv\\AppData\\Local\\Temp/ipykernel_17740/2558782589.py:2: SettingWithCopyWarning: \n",
      "A value is trying to be set on a copy of a slice from a DataFrame\n",
      "\n",
      "See the caveats in the documentation: https://pandas.pydata.org/pandas-docs/stable/user_guide/indexing.html#returning-a-view-versus-a-copy\n",
      "  asortyment_df['pietruszka'][i] = round(random.uniform(0,1),1)\n",
      "C:\\Users\\bunnv\\AppData\\Local\\Temp/ipykernel_17740/2558782589.py:3: SettingWithCopyWarning: \n",
      "A value is trying to be set on a copy of a slice from a DataFrame\n",
      "\n",
      "See the caveats in the documentation: https://pandas.pydata.org/pandas-docs/stable/user_guide/indexing.html#returning-a-view-versus-a-copy\n",
      "  asortyment_df['rzodkiewka'][i] = round(random.uniform(0,1),1)\n",
      "C:\\Users\\bunnv\\AppData\\Local\\Temp/ipykernel_17740/2558782589.py:4: SettingWithCopyWarning: \n",
      "A value is trying to be set on a copy of a slice from a DataFrame\n",
      "\n",
      "See the caveats in the documentation: https://pandas.pydata.org/pandas-docs/stable/user_guide/indexing.html#returning-a-view-versus-a-copy\n",
      "  asortyment_df['kukurydza'][i] = round(random.uniform(0,1),1)\n",
      "C:\\Users\\bunnv\\AppData\\Local\\Temp/ipykernel_17740/2558782589.py:5: SettingWithCopyWarning: \n",
      "A value is trying to be set on a copy of a slice from a DataFrame\n",
      "\n",
      "See the caveats in the documentation: https://pandas.pydata.org/pandas-docs/stable/user_guide/indexing.html#returning-a-view-versus-a-copy\n",
      "  asortyment_df['jablko'][i] = round(random.uniform(0,1),1)\n",
      "C:\\Users\\bunnv\\AppData\\Local\\Temp/ipykernel_17740/2558782589.py:6: SettingWithCopyWarning: \n",
      "A value is trying to be set on a copy of a slice from a DataFrame\n",
      "\n",
      "See the caveats in the documentation: https://pandas.pydata.org/pandas-docs/stable/user_guide/indexing.html#returning-a-view-versus-a-copy\n",
      "  asortyment_df['cebula'][i] = round(random.uniform(0,1),1)\n",
      "C:\\Users\\bunnv\\AppData\\Local\\Temp/ipykernel_17740/2558782589.py:7: SettingWithCopyWarning: \n",
      "A value is trying to be set on a copy of a slice from a DataFrame\n",
      "\n",
      "See the caveats in the documentation: https://pandas.pydata.org/pandas-docs/stable/user_guide/indexing.html#returning-a-view-versus-a-copy\n",
      "  asortyment_df['pomidor'][i] = round(random.uniform(0,1),1)\n",
      "C:\\Users\\bunnv\\AppData\\Local\\Temp/ipykernel_17740/2558782589.py:8: SettingWithCopyWarning: \n",
      "A value is trying to be set on a copy of a slice from a DataFrame\n",
      "\n",
      "See the caveats in the documentation: https://pandas.pydata.org/pandas-docs/stable/user_guide/indexing.html#returning-a-view-versus-a-copy\n",
      "  asortyment_df['papryka'][i] = round(random.uniform(0,1),1)\n"
     ]
    }
   ],
   "source": [
    "for i in range(0,10):\n",
    "    asortyment_df['pietruszka'][i] = round(random.uniform(0,1),1)\n",
    "    asortyment_df['rzodkiewka'][i] = round(random.uniform(0,1),1)\n",
    "    asortyment_df['kukurydza'][i] = round(random.uniform(0,1),1)\n",
    "    asortyment_df['jablko'][i] = round(random.uniform(0,1),1)\n",
    "    asortyment_df['cebula'][i] = round(random.uniform(0,1),1)\n",
    "    asortyment_df['pomidor'][i] = round(random.uniform(0,1),1)\n",
    "    asortyment_df['papryka'][i] = round(random.uniform(0,1),1)"
   ]
  },
  {
   "cell_type": "code",
   "execution_count": 6,
   "metadata": {},
   "outputs": [
    {
     "data": {
      "text/html": [
       "<div>\n",
       "<style scoped>\n",
       "    .dataframe tbody tr th:only-of-type {\n",
       "        vertical-align: middle;\n",
       "    }\n",
       "\n",
       "    .dataframe tbody tr th {\n",
       "        vertical-align: top;\n",
       "    }\n",
       "\n",
       "    .dataframe thead th {\n",
       "        text-align: right;\n",
       "    }\n",
       "</style>\n",
       "<table border=\"1\" class=\"dataframe\">\n",
       "  <thead>\n",
       "    <tr style=\"text-align: right;\">\n",
       "      <th></th>\n",
       "      <th>świeże</th>\n",
       "      <th>mrożone</th>\n",
       "      <th>ostre</th>\n",
       "      <th>słodkie</th>\n",
       "      <th>zielone</th>\n",
       "      <th>czerwone</th>\n",
       "      <th>lokalne</th>\n",
       "      <th>tropikalne</th>\n",
       "      <th>liściaste</th>\n",
       "      <th>bulwowe</th>\n",
       "    </tr>\n",
       "  </thead>\n",
       "  <tbody>\n",
       "    <tr>\n",
       "      <th>pietruszka</th>\n",
       "      <td>0.7</td>\n",
       "      <td>0.1</td>\n",
       "      <td>0.5</td>\n",
       "      <td>0.0</td>\n",
       "      <td>1.0</td>\n",
       "      <td>0.9</td>\n",
       "      <td>0.3</td>\n",
       "      <td>0.9</td>\n",
       "      <td>0.5</td>\n",
       "      <td>0.5</td>\n",
       "    </tr>\n",
       "    <tr>\n",
       "      <th>rzodkiewka</th>\n",
       "      <td>0.6</td>\n",
       "      <td>0.2</td>\n",
       "      <td>0.0</td>\n",
       "      <td>0.3</td>\n",
       "      <td>0.5</td>\n",
       "      <td>0.8</td>\n",
       "      <td>0.5</td>\n",
       "      <td>0.8</td>\n",
       "      <td>0.7</td>\n",
       "      <td>0.3</td>\n",
       "    </tr>\n",
       "    <tr>\n",
       "      <th>kukurydza</th>\n",
       "      <td>0.8</td>\n",
       "      <td>0.3</td>\n",
       "      <td>0.3</td>\n",
       "      <td>0.0</td>\n",
       "      <td>0.2</td>\n",
       "      <td>0.4</td>\n",
       "      <td>1.0</td>\n",
       "      <td>0.4</td>\n",
       "      <td>0.9</td>\n",
       "      <td>0.2</td>\n",
       "    </tr>\n",
       "    <tr>\n",
       "      <th>pomidor</th>\n",
       "      <td>0.5</td>\n",
       "      <td>0.3</td>\n",
       "      <td>0.1</td>\n",
       "      <td>0.7</td>\n",
       "      <td>0.5</td>\n",
       "      <td>0.4</td>\n",
       "      <td>0.9</td>\n",
       "      <td>0.9</td>\n",
       "      <td>0.7</td>\n",
       "      <td>0.5</td>\n",
       "    </tr>\n",
       "    <tr>\n",
       "      <th>papryka</th>\n",
       "      <td>0.3</td>\n",
       "      <td>0.1</td>\n",
       "      <td>0.6</td>\n",
       "      <td>0.3</td>\n",
       "      <td>0.8</td>\n",
       "      <td>0.8</td>\n",
       "      <td>0.8</td>\n",
       "      <td>0.2</td>\n",
       "      <td>0.5</td>\n",
       "      <td>0.9</td>\n",
       "    </tr>\n",
       "    <tr>\n",
       "      <th>jablko</th>\n",
       "      <td>0.0</td>\n",
       "      <td>0.0</td>\n",
       "      <td>0.0</td>\n",
       "      <td>0.0</td>\n",
       "      <td>0.0</td>\n",
       "      <td>0.0</td>\n",
       "      <td>0.0</td>\n",
       "      <td>0.0</td>\n",
       "      <td>0.0</td>\n",
       "      <td>0.0</td>\n",
       "    </tr>\n",
       "    <tr>\n",
       "      <th>cebula</th>\n",
       "      <td>0.9</td>\n",
       "      <td>0.7</td>\n",
       "      <td>0.2</td>\n",
       "      <td>0.2</td>\n",
       "      <td>1.0</td>\n",
       "      <td>0.7</td>\n",
       "      <td>0.0</td>\n",
       "      <td>0.9</td>\n",
       "      <td>0.9</td>\n",
       "      <td>0.2</td>\n",
       "    </tr>\n",
       "    <tr>\n",
       "      <th>marchewka</th>\n",
       "      <td>0.0</td>\n",
       "      <td>0.0</td>\n",
       "      <td>0.0</td>\n",
       "      <td>0.0</td>\n",
       "      <td>0.0</td>\n",
       "      <td>0.0</td>\n",
       "      <td>0.0</td>\n",
       "      <td>0.0</td>\n",
       "      <td>0.0</td>\n",
       "      <td>0.8</td>\n",
       "    </tr>\n",
       "  </tbody>\n",
       "</table>\n",
       "</div>"
      ],
      "text/plain": [
       "            świeże  mrożone  ostre  słodkie  zielone  czerwone  lokalne  \\\n",
       "pietruszka     0.7      0.1    0.5      0.0      1.0       0.9      0.3   \n",
       "rzodkiewka     0.6      0.2    0.0      0.3      0.5       0.8      0.5   \n",
       "kukurydza      0.8      0.3    0.3      0.0      0.2       0.4      1.0   \n",
       "pomidor        0.5      0.3    0.1      0.7      0.5       0.4      0.9   \n",
       "papryka        0.3      0.1    0.6      0.3      0.8       0.8      0.8   \n",
       "jablko         0.0      0.0    0.0      0.0      0.0       0.0      0.0   \n",
       "cebula         0.9      0.7    0.2      0.2      1.0       0.7      0.0   \n",
       "marchewka      0.0      0.0    0.0      0.0      0.0       0.0      0.0   \n",
       "\n",
       "            tropikalne  liściaste  bulwowe  \n",
       "pietruszka         0.9        0.5      0.5  \n",
       "rzodkiewka         0.8        0.7      0.3  \n",
       "kukurydza          0.4        0.9      0.2  \n",
       "pomidor            0.9        0.7      0.5  \n",
       "papryka            0.2        0.5      0.9  \n",
       "jablko             0.0        0.0      0.0  \n",
       "cebula             0.9        0.9      0.2  \n",
       "marchewka          0.0        0.0      0.8  "
      ]
     },
     "execution_count": 6,
     "metadata": {},
     "output_type": "execute_result"
    }
   ],
   "source": [
    "\n",
    "asortymentdf = asortyment_df.transpose()\n",
    "asortymentdf\n"
   ]
  },
  {
   "cell_type": "code",
   "execution_count": 113,
   "metadata": {},
   "outputs": [],
   "source": [
    "def wybierz_cechy(dataset: pd.DataFrame, cechy: dict):\n",
    "    wagi = {}\n",
    "    for i in range(0,dataset.index.size):\n",
    "        wagi[dataset.index[i]] = 0\n",
    "    for i in cechy:\n",
    "        for j in dataset.index.tolist():\n",
    "            wagi[j] += cechy[i] * dataset[i][j]\n",
    "    print(wagi)\n",
    "    wagi = sorted(wagi.items(), key=lambda x: x[1], reverse=True)\n",
    "    wagi = list(filter(lambda x: x[1] != 0, wagi))\n",
    "    print(\"Oto produkty ktore najlepiej pasuja do wyboru:\")\n",
    "    for idx,i in enumerate(wagi):\n",
    "        print(f\" {idx+1}. {i[0]}\")\n"
   ]
  },
  {
   "cell_type": "code",
   "execution_count": 114,
   "metadata": {},
   "outputs": [
    {
     "name": "stdout",
     "output_type": "stream",
     "text": [
      "{'pietruszka': 1.95, 'rzodkiewka': 1.45, 'kukurydza': 1.45, 'pomidor': 1.35, 'papryka': 1.35, 'jablko': 0.0, 'cebula': 2.35, 'marchewka': 0.0}\n",
      "Oto produkty ktore najlepiej pasuja do wyboru:\n",
      " 1. cebula\n",
      " 2. pietruszka\n",
      " 3. rzodkiewka\n",
      " 4. kukurydza\n",
      " 5. pomidor\n",
      " 6. papryka\n"
     ]
    }
   ],
   "source": [
    "wybierz_cechy(asortymentdf,{'świeże': 1, 'liściaste': 0.5, 'zielone': 1})"
   ]
  },
  {
   "cell_type": "code",
   "execution_count": 14,
   "metadata": {},
   "outputs": [
    {
     "data": {
      "text/plain": [
       "<generator object DataFrame.iterrows at 0x000001C397CB6120>"
      ]
     },
     "execution_count": 14,
     "metadata": {},
     "output_type": "execute_result"
    }
   ],
   "source": [
    "asortymentdf.iterrows()"
   ]
  },
  {
   "cell_type": "code",
   "execution_count": null,
   "metadata": {},
   "outputs": [],
   "source": []
  }
 ],
 "metadata": {
  "interpreter": {
   "hash": "5a7cffd829ff8a6968e2d5e1953aff86dde354d120c5df81602b8bd4171ab4c7"
  },
  "kernelspec": {
   "display_name": "Python 3.9.7 ('base')",
   "language": "python",
   "name": "python3"
  },
  "language_info": {
   "codemirror_mode": {
    "name": "ipython",
    "version": 3
   },
   "file_extension": ".py",
   "mimetype": "text/x-python",
   "name": "python",
   "nbconvert_exporter": "python",
   "pygments_lexer": "ipython3",
   "version": "3.9.7"
  },
  "orig_nbformat": 4
 },
 "nbformat": 4,
 "nbformat_minor": 2
}
