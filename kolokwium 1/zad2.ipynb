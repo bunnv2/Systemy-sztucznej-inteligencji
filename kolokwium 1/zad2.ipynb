{
 "cells": [
  {
   "cell_type": "code",
   "execution_count": 1,
   "metadata": {},
   "outputs": [],
   "source": [
    "import pandas as pd\n",
    "import numpy as np\n",
    "import random as rd\n",
    "\n",
    "seedsDF = pd.read_csv('seeds.csv', sep=',')\n",
    "\n",
    "class ProcessingData:\n",
    "    @staticmethod\n",
    "    def ShuffleData(df: pd.DataFrame):\n",
    "        for i in range(len(df)):\n",
    "            rand_i=rd.randint(0,len(df)-1)\n",
    "            #zamiana miejscami liczb\n",
    "            df.loc[i],df.loc[rand_i] = df.loc[rand_i],df.loc[i]\n",
    "        return df\n",
    "    @staticmethod\n",
    "    def SplitData(df:pd.DataFrame,x:int,y:int):\n",
    "        #walidacja\n",
    "        if x+y>100 or x<0 or y<0 or x+y<100:\n",
    "            print(\"Podano zbyt dużą/małą ilość danych do podziału\")\n",
    "            return\n",
    "        train_set,test_set = pd.DataFrame(),pd.DataFrame()\n",
    "        for i in range(len(df)):\n",
    "            #uwarunkowanie podzialu\n",
    "            if rd.random()<x/100:\n",
    "                train_set = train_set.append(df.loc[i])\n",
    "            else:\n",
    "                test_set = test_set.append(df.loc[i])\n",
    "        return train_set,test_set\n",
    "    @staticmethod\n",
    "    def NormalizeData(df:pd.DataFrame):\n",
    "        for atributte in df.columns[:-1]:\n",
    "            mean = df[atributte].mean()\n",
    "            stddev = df[atributte].std()\n",
    "            #wyliczenie normy\n",
    "            df[atributte] = (df[atributte]-mean)/stddev\n",
    "        return df\n",
    "\n"
   ]
  },
  {
   "cell_type": "code",
   "execution_count": 8,
   "metadata": {},
   "outputs": [],
   "source": [
    "class NaiveBayes:\n",
    "    @staticmethod\n",
    "    def mean(atr):\n",
    "        return atr.mean()\n",
    "    @staticmethod\n",
    "    def stdev(atr):\n",
    "        return atr.std()\n",
    "    @staticmethod\n",
    "    def prob(x,mean,stdev):\n",
    "        #walidacja wzoru\n",
    "        if x<mean-(6**(1/2))*stdev:\n",
    "            return 0\n",
    "        elif x>mean+(6)**(1/2)*stdev:\n",
    "            return 0\n",
    "        elif x>=mean-(6**(1/2)*stdev) and x<mean:\n",
    "            return (x-mean)/(6*(stdev**2)) + 1/(6**1/2)*stdev\n",
    "        elif x>mean and x<=mean+(6**1/2)*stdev:\n",
    "            return (x-mean)/(6*(stdev**2)) - 1/(6**1/2)*stdev\n",
    "    @staticmethod\n",
    "    def classify(train_set: pd.DataFrame, sample):\n",
    "        #podzila na klasy oraz utworzenie slownikow\n",
    "        varieties = train_set[train_set.columns[-1]].unique()\n",
    "        mean_std = {}\n",
    "        probabilities = {}\n",
    "        #liczenie srednich i odchylen dla kazdej klasy i zapisanie do slownika\n",
    "        for variety in varieties:\n",
    "            mean_std[variety] = {}\n",
    "            for atr in train_set.columns:\n",
    "                if atr != train_set.columns[-1]:\n",
    "                    mean_std[variety][atr] = [NaiveBayes.mean(train_set[train_set[train_set.columns[-1]] == variety][atr]),NaiveBayes.stdev(train_set[train_set[train_set.columns[-1]] == variety][atr])]\n",
    "        #liczenie prawdopodobienstw dla kazdej klasy\n",
    "        for variety in varieties:\n",
    "            probabilities[variety] = 1/len(varieties)\n",
    "            for atr in sample.index:\n",
    "                if atr != train_set.columns[-1]:\n",
    "                    probabilities[variety] *= NaiveBayes.prob(sample[atr],mean_std[variety][atr][0],mean_std[variety][atr][1])\n",
    "        #zwracanie najbardziej prawdopodobnej klasy\n",
    "        return max(probabilities,key=probabilities.get)\n",
    "    @staticmethod\n",
    "    def accuracy(test_set: pd.DataFrame, train_set: pd.DataFrame):\n",
    "        correct = 0\n",
    "        # podliczenie poprawnych klas w stosunku do wszystkich\n",
    "        for i in range(len(test_set)):\n",
    "            if test_set[train_set.columns[-1]].iloc[i] == NaiveBayes.classify(train_set,test_set.iloc[i]):\n",
    "                correct += 1\n",
    "        print(\"Bad predicted: \"+str(len(test_set)-correct))\n",
    "        return correct/len(test_set)"
   ]
  },
  {
   "cell_type": "code",
   "execution_count": 24,
   "metadata": {},
   "outputs": [
    {
     "name": "stdout",
     "output_type": "stream",
     "text": [
      "Bad predicted: 23\n",
      "Accuracy: 0.5576923076923077\n"
     ]
    }
   ],
   "source": [
    "# dla danych nieznormalizowanych:\n",
    "seedsDF = pd.read_csv('seeds.csv', sep=',')\n",
    "seedsDF = ProcessingData.ShuffleData(seedsDF)\n",
    "train_set,test_set = ProcessingData.SplitData(seedsDF,80,20)\n",
    "print(\"Accuracy: \"+str(NaiveBayes.accuracy(test_set,train_set)))"
   ]
  },
  {
   "cell_type": "code",
   "execution_count": 21,
   "metadata": {},
   "outputs": [
    {
     "name": "stdout",
     "output_type": "stream",
     "text": [
      "Bad predicted: 21\n",
      "Accuracy: 0.5531914893617021\n"
     ]
    }
   ],
   "source": [
    "seeds_normalizedDF = pd.read_csv('seeds.csv', sep=',')\n",
    "seeds_normalizedDF = ProcessingData.NormalizeData(seeds_normalizedDF)\n",
    "seeds_normalizedDF = ProcessingData.ShuffleData(seeds_normalizedDF)\n",
    "train_set2,test_set2 = ProcessingData.SplitData(seeds_normalizedDF,80,20)\n",
    "\n",
    "print(\"Accuracy: \"+str(NaiveBayes.accuracy(test_set2,train_set2)))"
   ]
  },
  {
   "cell_type": "code",
   "execution_count": null,
   "metadata": {},
   "outputs": [],
   "source": []
  },
  {
   "cell_type": "code",
   "execution_count": null,
   "metadata": {},
   "outputs": [],
   "source": []
  }
 ],
 "metadata": {
  "interpreter": {
   "hash": "5a7cffd829ff8a6968e2d5e1953aff86dde354d120c5df81602b8bd4171ab4c7"
  },
  "kernelspec": {
   "display_name": "Python 3.9.7 ('base')",
   "language": "python",
   "name": "python3"
  },
  "language_info": {
   "codemirror_mode": {
    "name": "ipython",
    "version": 3
   },
   "file_extension": ".py",
   "mimetype": "text/x-python",
   "name": "python",
   "nbconvert_exporter": "python",
   "pygments_lexer": "ipython3",
   "version": "3.9.7"
  },
  "orig_nbformat": 4
 },
 "nbformat": 4,
 "nbformat_minor": 2
}
