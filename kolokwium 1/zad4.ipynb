{
 "cells": [
  {
   "cell_type": "code",
   "execution_count": 1,
   "metadata": {},
   "outputs": [],
   "source": [
    "import pandas as pd\n",
    "import numpy as np\n",
    "import random as rd\n",
    "import sklearn as sk\n",
    "\n",
    "\n",
    "class ProcessingData:\n",
    "    @staticmethod\n",
    "    def ShuffleData(df: pd.DataFrame):\n",
    "        for i in range(len(df)):\n",
    "            rand_i=rd.randint(0,len(df)-1)\n",
    "            #zamiana miejscami liczb\n",
    "            df.loc[i],df.loc[rand_i] = df.loc[rand_i],df.loc[i]\n",
    "        return df\n",
    "    @staticmethod\n",
    "    def SplitData(df:pd.DataFrame,x:int,y:int):\n",
    "        #walidacja\n",
    "        if x+y>100 or x<0 or y<0 or x+y<100:\n",
    "            print(\"Podano zbyt dużą/małą ilość danych do podziału\")\n",
    "            return\n",
    "        train_set,test_set = pd.DataFrame(),pd.DataFrame()\n",
    "        for i in range(len(df)):\n",
    "            #uwarunkowanie podzialu\n",
    "            if rd.random()<x/100:\n",
    "                train_set = train_set.append(df.loc[i])\n",
    "            else:\n",
    "                test_set = test_set.append(df.loc[i])\n",
    "        return train_set,test_set\n",
    "    @staticmethod\n",
    "    def NormalizeData(df:pd.DataFrame):\n",
    "        for atributte in df.columns[:-1]:\n",
    "            mean = df[atributte].mean()\n",
    "            stddev = df[atributte].std()\n",
    "            #wyliczenie normy\n",
    "            df[atributte] = (df[atributte]-mean)/stddev\n",
    "        return df\n"
   ]
  },
  {
   "cell_type": "code",
   "execution_count": 3,
   "metadata": {},
   "outputs": [],
   "source": [
    "class KNN:\n",
    "    @staticmethod\n",
    "    def distance(x: pd.Series, y:pd.Series, m:int) -> float:\n",
    "              return sum([(abs(xi-yi))\n",
    "                    for xi,yi in zip(x,y)])\n",
    "    @staticmethod\n",
    "    def get_neighbours(df:pd.DataFrame,x:pd.Series,k:int,m:int) -> list:\n",
    "        distances = []\n",
    "\n",
    "        # wyliczenie wszystkich odległości od punktu x\n",
    "        \n",
    "        for i in range(len(df)):\n",
    "            distances.append((KNN.distance(x,df.iloc[i],m),df.iloc[i]))\n",
    "        distances.sort(key=lambda x:x[0])\n",
    "        return distances[:k]\n",
    "    @staticmethod\n",
    "    def get_class(neighbours:list) -> int:\n",
    "        classes = {}\n",
    "        # wyliczenie klas dla kazdego sasiada oraz ich ilości a nastepnie wybór klasy\n",
    "        for i in range(len(neighbours)):\n",
    "            if neighbours[i][1][-1] not in classes:\n",
    "                classes[neighbours[i][1][-1]] = 1\n",
    "            else:\n",
    "                classes[neighbours[i][1][-1]] += 1\n",
    "        return max(classes,key=classes.get)\n",
    "    @staticmethod\n",
    "    def get_accuracy(df:pd.DataFrame,test_set:pd.DataFrame,m:int,k:int) -> float:\n",
    "        correct = 0\n",
    "        for i in range(len(test_set)):\n",
    "            neighbours = KNN.get_neighbours(df,test_set.iloc[i],k,m)\n",
    "            if KNN.get_class(neighbours) == test_set.iloc[i][-1]:\n",
    "                correct += 1\n",
    "        print(\"Good predicted: \",correct)\n",
    "        print(\"Bad predicted: \",len(test_set)-correct)\n",
    "        return f\"{round((correct/len(test_set))*100,2)}%\"\n",
    "   "
   ]
  },
  {
   "cell_type": "code",
   "execution_count": 9,
   "metadata": {},
   "outputs": [
    {
     "name": "stdout",
     "output_type": "stream",
     "text": [
      "Good predicted:  61\n",
      "Bad predicted:  1\n",
      "98.39%\n"
     ]
    }
   ],
   "source": [
    "seedsDF = pd.read_csv(\"seeds.csv\",sep=\",\")\n",
    "seedsDF = ProcessingData.ShuffleData(seedsDF)\n",
    "seedsDF = ProcessingData.NormalizeData(seedsDF)\n",
    "train_set,test_set = ProcessingData.SplitData(seedsDF,70,30)\n",
    "\n",
    "print(KNN.get_accuracy(train_set,test_set,2,4))"
   ]
  },
  {
   "cell_type": "code",
   "execution_count": 15,
   "metadata": {},
   "outputs": [
    {
     "name": "stdout",
     "output_type": "stream",
     "text": [
      "Good predicted:  59\n",
      "Bad predicted:  2\n",
      "96.72%\n"
     ]
    }
   ],
   "source": [
    "seedsDF1 = pd.read_csv(\"seeds.csv\",sep=\",\")\n",
    "seedsDF1 = ProcessingData.ShuffleData(seedsDF1)\n",
    "train_set1,test_set1 = ProcessingData.SplitData(seedsDF1,70,30)\n",
    "\n",
    "print(KNN.get_accuracy(train_set1,test_set1,2,4))"
   ]
  }
 ],
 "metadata": {
  "interpreter": {
   "hash": "5a7cffd829ff8a6968e2d5e1953aff86dde354d120c5df81602b8bd4171ab4c7"
  },
  "kernelspec": {
   "display_name": "Python 3.9.7 ('base')",
   "language": "python",
   "name": "python3"
  },
  "language_info": {
   "codemirror_mode": {
    "name": "ipython",
    "version": 3
   },
   "file_extension": ".py",
   "mimetype": "text/x-python",
   "name": "python",
   "nbconvert_exporter": "python",
   "pygments_lexer": "ipython3",
   "version": "3.9.7"
  },
  "orig_nbformat": 4
 },
 "nbformat": 4,
 "nbformat_minor": 2
}
